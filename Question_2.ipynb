{
  "nbformat": 4,
  "nbformat_minor": 0,
  "metadata": {
    "colab": {
      "name": "Question2.ipynb",
      "provenance": [],
      "collapsed_sections": []
    },
    "kernelspec": {
      "name": "python3",
      "display_name": "Python 3"
    }
  },
  "cells": [
    {
      "cell_type": "markdown",
      "metadata": {
        "id": "B1kKe3CfpxSO"
      },
      "source": [
        "# Dans ce travail nous avons utiliser **Tensorflow**, j'ai réimplementé la meme architecture que vous avez donnée et j'ai appliqué ce qui était demandé dans l'énnoncé"
      ]
    },
    {
      "cell_type": "markdown",
      "metadata": {
        "id": "9sERGj8A3sIJ"
      },
      "source": [
        "\r\n",
        "Pour les parametres j'ai utilisé epoch= 15 batch_size=10 et learning rate =0.001"
      ]
    },
    {
      "cell_type": "code",
      "metadata": {
        "id": "IEQBUKT26wZu"
      },
      "source": [
        "\r\n",
        "import sys\r\n",
        "from matplotlib import pyplot\r\n",
        "from keras.datasets import cifar10\r\n",
        "from keras.utils import to_categorical\r\n",
        "from keras.models import Sequential\r\n",
        "from keras.layers import Conv2D\r\n",
        "from keras.layers import MaxPooling2D\r\n",
        "from keras.layers import Dense\r\n",
        "from keras.layers import Flatten\r\n",
        "from keras.layers import Dropout\r\n",
        "from keras.optimizers import SGD\r\n",
        "import numpy as np\r\n",
        "from keras.utils import np_utils\r\n",
        "from keras.preprocessing.image import ImageDataGenerator\r\n",
        "\r\n",
        "from keras.optimizers import Adam"
      ],
      "execution_count": 87,
      "outputs": []
    },
    {
      "cell_type": "code",
      "metadata": {
        "id": "Kg3b-9ih62Tq"
      },
      "source": [
        "(trainX, trainY), (testX, testY) = cifar10.load_data()"
      ],
      "execution_count": 88,
      "outputs": []
    },
    {
      "cell_type": "code",
      "metadata": {
        "id": "gMVRBVGa7PlI"
      },
      "source": [
        "# convert from integers to floats\r\n",
        "trainX = trainX.astype('float32')\r\n",
        "testX = testX.astype('float32')"
      ],
      "execution_count": 89,
      "outputs": []
    },
    {
      "cell_type": "code",
      "metadata": {
        "id": "IZ0HEoAR7XbI"
      },
      "source": [
        "mean =np.mean(trainX,axis=(0,1,2,3,))\r\n",
        "std=np.std(trainX,axis=(0,1,2,3,))\r\n",
        "trainX=(trainX-mean)/(std+1e-7)\r\n",
        "testX=(testX-mean)/(std+1e-7)"
      ],
      "execution_count": 90,
      "outputs": []
    },
    {
      "cell_type": "code",
      "metadata": {
        "id": "A9DQsDgw8slu"
      },
      "source": [
        "nClasses=10\r\n",
        "trainY=np_utils.to_categorical(trainY,nClasses)\r\n",
        "testY=np_utils.to_categorical(testY,nClasses)"
      ],
      "execution_count": 91,
      "outputs": []
    },
    {
      "cell_type": "code",
      "metadata": {
        "colab": {
          "base_uri": "https://localhost:8080/"
        },
        "id": "8pAbil5C9kyd",
        "outputId": "114b927d-f2e1-4188-c90e-8297f1c92715"
      },
      "source": [
        "print(trainX.shape)\r\n",
        "print(trainY.shape)"
      ],
      "execution_count": 92,
      "outputs": [
        {
          "output_type": "stream",
          "text": [
            "(50000, 32, 32, 3)\n",
            "(50000, 10)\n"
          ],
          "name": "stdout"
        }
      ]
    },
    {
      "cell_type": "code",
      "metadata": {
        "id": "VMw-Ca4Q95b5"
      },
      "source": [
        "input_shape=(32,32,3)"
      ],
      "execution_count": 93,
      "outputs": []
    },
    {
      "cell_type": "code",
      "metadata": {
        "id": "UD4VjPN2-mN5"
      },
      "source": [
        "def createModel():\r\n",
        "  model=Sequential()\r\n",
        "  model.add(Conv2D(32,(3,3),padding='same',activation = 'relu'))\r\n",
        "  model.add(Conv2D(32,(3,3),activation = 'relu'))\r\n",
        "  model.add(MaxPooling2D(pool_size = (2, 2)))\r\n",
        "  model.add(Dropout(0.02))\r\n",
        "  model.add(Flatten())\r\n",
        "  model.add(Dense(256,activation='relu'))\r\n",
        "  model.add(Dense(120,activation='relu'))\r\n",
        "  model.add(Dense(nClasses,activation='softmax'))\r\n",
        "  return model"
      ],
      "execution_count": 94,
      "outputs": []
    },
    {
      "cell_type": "code",
      "metadata": {
        "id": "-TvCo2-bA1nP"
      },
      "source": [
        "\r\n"
      ],
      "execution_count": 94,
      "outputs": []
    },
    {
      "cell_type": "code",
      "metadata": {
        "id": "ehAvq1xByC4w"
      },
      "source": [
        "model=createModel()\r\n",
        "\r\n",
        "\t"
      ],
      "execution_count": 95,
      "outputs": []
    },
    {
      "cell_type": "code",
      "metadata": {
        "id": "0L9f24RNBGP1"
      },
      "source": [
        "opt = Adam(lr=0.001)\r\n",
        "model.compile(optimizer=opt, loss='categorical_crossentropy', metrics=['accuracy'])\r\n"
      ],
      "execution_count": 96,
      "outputs": []
    },
    {
      "cell_type": "code",
      "metadata": {
        "colab": {
          "base_uri": "https://localhost:8080/"
        },
        "id": "VClkZcT0COiY",
        "outputId": "e7dbde3d-8c34-49e3-ccf8-4c5e4e3cb24d"
      },
      "source": [
        "input_shape = (trainX.shape)  \r\n",
        "model.build(input_shape) \r\n",
        "model.summary()\r\n",
        "#model.build(None,32,32,3) # `input_shape` is the shape of the input data\r\n",
        "                         # e.g. input_shape = (None, 32, 32, 3)\r\n",
        "#model.summary()"
      ],
      "execution_count": 97,
      "outputs": [
        {
          "output_type": "stream",
          "text": [
            "Model: \"sequential_6\"\n",
            "_________________________________________________________________\n",
            "Layer (type)                 Output Shape              Param #   \n",
            "=================================================================\n",
            "conv2d_12 (Conv2D)           (50000, 32, 32, 32)       896       \n",
            "_________________________________________________________________\n",
            "conv2d_13 (Conv2D)           (50000, 30, 30, 32)       9248      \n",
            "_________________________________________________________________\n",
            "max_pooling2d_6 (MaxPooling2 (50000, 15, 15, 32)       0         \n",
            "_________________________________________________________________\n",
            "dropout_9 (Dropout)          (50000, 15, 15, 32)       0         \n",
            "_________________________________________________________________\n",
            "flatten_6 (Flatten)          (50000, 7200)             0         \n",
            "_________________________________________________________________\n",
            "dense_15 (Dense)             (50000, 256)              1843456   \n",
            "_________________________________________________________________\n",
            "dense_16 (Dense)             (50000, 120)              30840     \n",
            "_________________________________________________________________\n",
            "dense_17 (Dense)             (50000, 10)               1210      \n",
            "=================================================================\n",
            "Total params: 1,885,650\n",
            "Trainable params: 1,885,650\n",
            "Non-trainable params: 0\n",
            "_________________________________________________________________\n"
          ],
          "name": "stdout"
        }
      ]
    },
    {
      "cell_type": "code",
      "metadata": {
        "id": "OVvAEt8ULCvo"
      },
      "source": [
        "from keras.callbacks import Callback\r\n",
        "class CustomCallBack(Callback):\r\n",
        "  def on_epoch_end(self, epoch, logs={}):\r\n",
        "    if (epoch %5 ==0):\r\n",
        "      print(\"just finished epoch\",epoch)\r\n",
        "      print(\"loss\",logs.get('acc'))\r\n",
        "      print(\"val_acc\",logs.get('val_acc'))\r\n",
        "      return"
      ],
      "execution_count": 98,
      "outputs": []
    },
    {
      "cell_type": "code",
      "metadata": {
        "colab": {
          "base_uri": "https://localhost:8080/"
        },
        "id": "zokDefTwMSDl",
        "outputId": "920339c4-0dab-4b39-f8bc-d4cf6d9c955c"
      },
      "source": [
        "batch_size=8\r\n",
        "epoch=10\r\n",
        "cc=CustomCallBack()\r\n",
        "history=model.fit(trainX,trainY, batch_size=batch_size, epochs=epoch, validation_data=(testX,testY))"
      ],
      "execution_count": 99,
      "outputs": [
        {
          "output_type": "stream",
          "text": [
            "Epoch 1/10\n",
            "6250/6250 [==============================] - 201s 32ms/step - loss: 1.4707 - accuracy: 0.4732 - val_loss: 1.0125 - val_accuracy: 0.6444\n",
            "Epoch 2/10\n",
            "6250/6250 [==============================] - 200s 32ms/step - loss: 0.8742 - accuracy: 0.6938 - val_loss: 0.9556 - val_accuracy: 0.6727\n",
            "Epoch 3/10\n",
            "6250/6250 [==============================] - 201s 32ms/step - loss: 0.6261 - accuracy: 0.7819 - val_loss: 0.9885 - val_accuracy: 0.6734\n",
            "Epoch 4/10\n",
            "6250/6250 [==============================] - 203s 33ms/step - loss: 0.4267 - accuracy: 0.8514 - val_loss: 1.1220 - val_accuracy: 0.6692\n",
            "Epoch 5/10\n",
            "6250/6250 [==============================] - 204s 33ms/step - loss: 0.2895 - accuracy: 0.9006 - val_loss: 1.3546 - val_accuracy: 0.6635\n",
            "Epoch 6/10\n",
            "6250/6250 [==============================] - 203s 33ms/step - loss: 0.2067 - accuracy: 0.9288 - val_loss: 1.5050 - val_accuracy: 0.6626\n",
            "Epoch 7/10\n",
            "6250/6250 [==============================] - 203s 32ms/step - loss: 0.1735 - accuracy: 0.9428 - val_loss: 1.8317 - val_accuracy: 0.6543\n",
            "Epoch 8/10\n",
            "6250/6250 [==============================] - 203s 32ms/step - loss: 0.1420 - accuracy: 0.9541 - val_loss: 1.8991 - val_accuracy: 0.6430\n",
            "Epoch 9/10\n",
            "6250/6250 [==============================] - 202s 32ms/step - loss: 0.1224 - accuracy: 0.9625 - val_loss: 2.0762 - val_accuracy: 0.6583\n",
            "Epoch 10/10\n",
            "6250/6250 [==============================] - 202s 32ms/step - loss: 0.1177 - accuracy: 0.9630 - val_loss: 2.0883 - val_accuracy: 0.6629\n"
          ],
          "name": "stdout"
        }
      ]
    },
    {
      "cell_type": "code",
      "metadata": {
        "id": "JvDYe90dyAkH"
      },
      "source": [
        ""
      ],
      "execution_count": 99,
      "outputs": []
    }
  ]
}