{
  "nbformat": 4,
  "nbformat_minor": 0,
  "metadata": {
    "colab": {
      "name": "Question 001.ipynb",
      "provenance": [],
      "collapsed_sections": []
    },
    "kernelspec": {
      "name": "python3",
      "display_name": "Python 3"
    }
  },
  "cells": [
    {
      "cell_type": "markdown",
      "metadata": {
        "id": "B1kKe3CfpxSO"
      },
      "source": [
        "# Dans ce travail nous avons utiliser **Tensorflow**, j'ai réimplementé la meme architecture que vous avez donnée et j'ai appliqué ce qui était demandé dans l'énnoncé"
      ]
    },
    {
      "cell_type": "markdown",
      "metadata": {
        "id": "9sERGj8A3sIJ"
      },
      "source": [
        "Question 01: aprés plusieurs test en changeant la valeur d'epoch j'ai obtenu les meilleurs performance en utilisant epoch = 10 avec un batch size de =8 et learning rate de 0.001"
      ]
    },
    {
      "cell_type": "code",
      "metadata": {
        "id": "IEQBUKT26wZu"
      },
      "source": [
        "\r\n",
        "import sys\r\n",
        "from matplotlib import pyplot\r\n",
        "from keras.datasets import cifar10\r\n",
        "from keras.utils import to_categorical\r\n",
        "from keras.models import Sequential\r\n",
        "from keras.layers import Conv2D\r\n",
        "from keras.layers import MaxPooling2D\r\n",
        "from keras.layers import Dense\r\n",
        "from keras.layers import Flatten\r\n",
        "from keras.layers import Dropout\r\n",
        "from keras.optimizers import SGD\r\n",
        "import numpy as np\r\n",
        "from keras.utils import np_utils\r\n",
        "from keras.optimizers import Adam"
      ],
      "execution_count": 49,
      "outputs": []
    },
    {
      "cell_type": "code",
      "metadata": {
        "id": "Kg3b-9ih62Tq"
      },
      "source": [
        "(trainX, trainY), (testX, testY) = cifar10.load_data()"
      ],
      "execution_count": 50,
      "outputs": []
    },
    {
      "cell_type": "code",
      "metadata": {
        "id": "gMVRBVGa7PlI"
      },
      "source": [
        "# convert from integers to floats\r\n",
        "trainX = trainX.astype('float32')\r\n",
        "testX = testX.astype('float32')"
      ],
      "execution_count": 51,
      "outputs": []
    },
    {
      "cell_type": "code",
      "metadata": {
        "id": "IZ0HEoAR7XbI"
      },
      "source": [
        "mean =np.mean(trainX,axis=(0,1,2,3,))\r\n",
        "std=np.std(trainX,axis=(0,1,2,3,))\r\n",
        "trainX=(trainX-mean)/(std+1e-7)\r\n",
        "testX=(testX-mean)/(std+1e-7)"
      ],
      "execution_count": 52,
      "outputs": []
    },
    {
      "cell_type": "code",
      "metadata": {
        "id": "A9DQsDgw8slu"
      },
      "source": [
        "nClasses=10\r\n",
        "trainY=np_utils.to_categorical(trainY,nClasses)\r\n",
        "testY=np_utils.to_categorical(testY,nClasses)"
      ],
      "execution_count": 53,
      "outputs": []
    },
    {
      "cell_type": "code",
      "metadata": {
        "colab": {
          "base_uri": "https://localhost:8080/"
        },
        "id": "8pAbil5C9kyd",
        "outputId": "fb2ae4ab-a120-4e0c-a3e5-3f84c0202d6b"
      },
      "source": [
        "print(trainX.shape)\r\n",
        "print(trainY.shape)"
      ],
      "execution_count": 54,
      "outputs": [
        {
          "output_type": "stream",
          "text": [
            "(50000, 32, 32, 3)\n",
            "(50000, 10)\n"
          ],
          "name": "stdout"
        }
      ]
    },
    {
      "cell_type": "code",
      "metadata": {
        "id": "VMw-Ca4Q95b5"
      },
      "source": [
        "input_shape=(32,32,3)"
      ],
      "execution_count": 55,
      "outputs": []
    },
    {
      "cell_type": "code",
      "metadata": {
        "id": "UD4VjPN2-mN5"
      },
      "source": [
        "def createModel():\r\n",
        "  model=Sequential()\r\n",
        "  #premiere et deuxieme couche de convolution\r\n",
        "  model.add(Conv2D(32,(3,3),padding='same',activation = 'relu'))\r\n",
        "  model.add(Conv2D(32,(3,3),activation = 'relu'))\r\n",
        "  #pooling\r\n",
        "  model.add(MaxPooling2D(pool_size = (2, 2)))\r\n",
        "  #flatting\r\n",
        "  model.add(Flatten())\r\n",
        "  #couche connecté\r\n",
        "  model.add(Dense(500,activation='relu'))\r\n",
        "  model.add(Dense(120,activation='relu'))\r\n",
        "  model.add(Dense(nClasses,activation='softmax'))\r\n",
        "  return model"
      ],
      "execution_count": 56,
      "outputs": []
    },
    {
      "cell_type": "code",
      "metadata": {
        "id": "-TvCo2-bA1nP"
      },
      "source": [
        "model=createModel()"
      ],
      "execution_count": 57,
      "outputs": []
    },
    {
      "cell_type": "code",
      "metadata": {
        "id": "0L9f24RNBGP1"
      },
      "source": [
        "opt = SGD(lr=0.001, momentum=0.9)\r\n",
        "model.compile(optimizer=opt, loss='categorical_crossentropy', metrics=['accuracy'])\r\n"
      ],
      "execution_count": 58,
      "outputs": []
    },
    {
      "cell_type": "code",
      "metadata": {
        "colab": {
          "base_uri": "https://localhost:8080/"
        },
        "id": "VClkZcT0COiY",
        "outputId": "d20a04d6-8006-4db5-c146-0944d7416190"
      },
      "source": [
        "input_shape = (trainX.shape)  \r\n",
        "model.build(input_shape) \r\n",
        "model.summary()\r\n",
        "#model.build(None,32,32,3) # `input_shape` is the shape of the input data\r\n",
        "                         # e.g. input_shape = (None, 32, 32, 3)\r\n",
        "#model.summary()"
      ],
      "execution_count": 59,
      "outputs": [
        {
          "output_type": "stream",
          "text": [
            "Model: \"sequential_6\"\n",
            "_________________________________________________________________\n",
            "Layer (type)                 Output Shape              Param #   \n",
            "=================================================================\n",
            "conv2d_12 (Conv2D)           (50000, 32, 32, 32)       896       \n",
            "_________________________________________________________________\n",
            "conv2d_13 (Conv2D)           (50000, 30, 30, 32)       9248      \n",
            "_________________________________________________________________\n",
            "max_pooling2d_6 (MaxPooling2 (50000, 15, 15, 32)       0         \n",
            "_________________________________________________________________\n",
            "flatten_6 (Flatten)          (50000, 7200)             0         \n",
            "_________________________________________________________________\n",
            "dense_11 (Dense)             (50000, 500)              3600500   \n",
            "_________________________________________________________________\n",
            "dense_12 (Dense)             (50000, 120)              60120     \n",
            "_________________________________________________________________\n",
            "dense_13 (Dense)             (50000, 10)               1210      \n",
            "=================================================================\n",
            "Total params: 3,671,974\n",
            "Trainable params: 3,671,974\n",
            "Non-trainable params: 0\n",
            "_________________________________________________________________\n"
          ],
          "name": "stdout"
        }
      ]
    },
    {
      "cell_type": "code",
      "metadata": {
        "id": "OVvAEt8ULCvo"
      },
      "source": [
        "from keras.callbacks import Callback\r\n",
        "class CustomCallBack(Callback):\r\n",
        "  def on_epoch_end(self, epoch, logs={}):\r\n",
        "    if (epoch %5 ==0):\r\n",
        "      print(\"just finished epoch\",epoch)\r\n",
        "      print(\"loss\",logs.get('acc'))\r\n",
        "      print(\"val_acc\",logs.get('val_acc'))\r\n",
        "      return"
      ],
      "execution_count": 60,
      "outputs": []
    },
    {
      "cell_type": "code",
      "metadata": {
        "colab": {
          "base_uri": "https://localhost:8080/"
        },
        "id": "zokDefTwMSDl",
        "outputId": "81e368a9-0828-4ec1-fa3b-adf89d4b1d65"
      },
      "source": [
        "batch_size=8\r\n",
        "epoch=10\r\n",
        "cc=CustomCallBack()\r\n",
        "history=model.fit(trainX,trainY, batch_size=batch_size, epochs=epoch, validation_data=(testX,testY))"
      ],
      "execution_count": 61,
      "outputs": [
        {
          "output_type": "stream",
          "text": [
            "Epoch 1/10\n",
            "6250/6250 [==============================] - 353s 56ms/step - loss: 1.6239 - accuracy: 0.4116 - val_loss: 1.1139 - val_accuracy: 0.6035\n",
            "Epoch 2/10\n",
            "6250/6250 [==============================] - 351s 56ms/step - loss: 0.9899 - accuracy: 0.6488 - val_loss: 0.9892 - val_accuracy: 0.6464\n",
            "Epoch 3/10\n",
            "6250/6250 [==============================] - 350s 56ms/step - loss: 0.7138 - accuracy: 0.7483 - val_loss: 0.9339 - val_accuracy: 0.6808\n",
            "Epoch 4/10\n",
            "6250/6250 [==============================] - 342s 55ms/step - loss: 0.4800 - accuracy: 0.8335 - val_loss: 0.9570 - val_accuracy: 0.6969\n",
            "Epoch 5/10\n",
            "6250/6250 [==============================] - 314s 50ms/step - loss: 0.2642 - accuracy: 0.9104 - val_loss: 1.2250 - val_accuracy: 0.6654\n",
            "Epoch 6/10\n",
            "6250/6250 [==============================] - 343s 55ms/step - loss: 0.1465 - accuracy: 0.9519 - val_loss: 1.3188 - val_accuracy: 0.6793\n",
            "Epoch 7/10\n",
            "6250/6250 [==============================] - 333s 53ms/step - loss: 0.0999 - accuracy: 0.9669 - val_loss: 1.5481 - val_accuracy: 0.6805\n",
            "Epoch 8/10\n",
            "6250/6250 [==============================] - 344s 55ms/step - loss: 0.0761 - accuracy: 0.9746 - val_loss: 1.6003 - val_accuracy: 0.6800\n",
            "Epoch 9/10\n",
            "6250/6250 [==============================] - 329s 53ms/step - loss: 0.0538 - accuracy: 0.9821 - val_loss: 1.7766 - val_accuracy: 0.6800\n",
            "Epoch 10/10\n",
            "6250/6250 [==============================] - 318s 51ms/step - loss: 0.0519 - accuracy: 0.9827 - val_loss: 1.8533 - val_accuracy: 0.6818\n"
          ],
          "name": "stdout"
        }
      ]
    },
    {
      "cell_type": "markdown",
      "metadata": {
        "id": "9swzGD-mF34b"
      },
      "source": [
        ""
      ]
    }
  ]
}