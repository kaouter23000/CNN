{
  "nbformat": 4,
  "nbformat_minor": 0,
  "metadata": {
    "colab": {
      "name": "Question 3.ipynb",
      "provenance": [],
      "collapsed_sections": []
    },
    "kernelspec": {
      "name": "python3",
      "display_name": "Python 3"
    }
  },
  "cells": [
    {
      "cell_type": "markdown",
      "metadata": {
        "id": "B1kKe3CfpxSO"
      },
      "source": [
        "# Dans ce travail nous avons utiliser **Tensorflow**, j'ai réimplementé la meme architecture que vous avez donnée et j'ai appliqué ce qui était demandé dans l'énnoncé"
      ]
    },
    {
      "cell_type": "markdown",
      "metadata": {
        "id": "9sERGj8A3sIJ"
      },
      "source": [
        "Pour la **troisieme** question j'ai changé le model comme suit:\r\n",
        "\r\n",
        "**Convolution=> Convolution =>Pooling =>dropout=> Convolution=> Convolution =>Pooling =>dropout=> flatten=> dense=>dropout=>dense**\r\n",
        "\r\n",
        "ce qui a permet d'améliorer les resultats d'accuracy et Loss  aussi j'ai ajouté utilisé.\r\n",
        "Pour les parametres j'ai utilisé epoch= 15 batch_size=10 et learning rate =0.001"
      ]
    },
    {
      "cell_type": "code",
      "metadata": {
        "id": "IEQBUKT26wZu"
      },
      "source": [
        "\r\n",
        "import sys\r\n",
        "from matplotlib import pyplot\r\n",
        "from keras.datasets import cifar10\r\n",
        "from keras.utils import to_categorical\r\n",
        "from keras.models import Sequential\r\n",
        "from keras.layers import Conv2D\r\n",
        "from keras.layers import MaxPooling2D\r\n",
        "from keras.layers import Dense\r\n",
        "from keras.layers import Flatten\r\n",
        "from keras.layers import Dropout\r\n",
        "from keras.optimizers import SGD\r\n",
        "import numpy as np\r\n",
        "from keras.utils import np_utils\r\n",
        "from keras.optimizers import Adam"
      ],
      "execution_count": null,
      "outputs": []
    },
    {
      "cell_type": "code",
      "metadata": {
        "id": "3sUa2_pZsqsT"
      },
      "source": [
        ""
      ],
      "execution_count": null,
      "outputs": []
    },
    {
      "cell_type": "code",
      "metadata": {
        "id": "Kg3b-9ih62Tq"
      },
      "source": [
        "(trainX, trainY), (testX, testY) = cifar10.load_data()"
      ],
      "execution_count": null,
      "outputs": []
    },
    {
      "cell_type": "code",
      "metadata": {
        "id": "gMVRBVGa7PlI"
      },
      "source": [
        "# convert from integers to floats\r\n",
        "trainX = trainX.astype('float32')\r\n",
        "testX = testX.astype('float32')"
      ],
      "execution_count": null,
      "outputs": []
    },
    {
      "cell_type": "code",
      "metadata": {
        "id": "IZ0HEoAR7XbI"
      },
      "source": [
        "mean =np.mean(trainX,axis=(0,1,2,3,))\r\n",
        "std=np.std(trainX,axis=(0,1,2,3,))\r\n",
        "trainX=(trainX-mean)/(std+1e-7)\r\n",
        "testX=(testX-mean)/(std+1e-7)"
      ],
      "execution_count": null,
      "outputs": []
    },
    {
      "cell_type": "code",
      "metadata": {
        "id": "A9DQsDgw8slu"
      },
      "source": [
        "nClasses=10\r\n",
        "trainY=np_utils.to_categorical(trainY,nClasses)\r\n",
        "testY=np_utils.to_categorical(testY,nClasses)"
      ],
      "execution_count": null,
      "outputs": []
    },
    {
      "cell_type": "code",
      "metadata": {
        "colab": {
          "base_uri": "https://localhost:8080/"
        },
        "id": "8pAbil5C9kyd",
        "outputId": "0d1d93ef-e2cd-4b7c-a1dd-50f5de7706bf"
      },
      "source": [
        "print(trainX.shape)\r\n",
        "print(trainY.shape)"
      ],
      "execution_count": null,
      "outputs": [
        {
          "output_type": "stream",
          "text": [
            "(50000, 32, 32, 3)\n",
            "(50000, 10)\n"
          ],
          "name": "stdout"
        }
      ]
    },
    {
      "cell_type": "code",
      "metadata": {
        "id": "VMw-Ca4Q95b5"
      },
      "source": [
        "input_shape=(32,32,3)"
      ],
      "execution_count": null,
      "outputs": []
    },
    {
      "cell_type": "code",
      "metadata": {
        "id": "UD4VjPN2-mN5"
      },
      "source": [
        "def createModel():\r\n",
        "  model=Sequential()\r\n",
        "  model.add(Conv2D(32,(3,3),padding='same',activation = 'relu'))\r\n",
        "  model.add(Conv2D(32,(3,3),activation = 'relu'))\r\n",
        "  model.add(MaxPooling2D(pool_size = (2, 2)))\r\n",
        "  model.add(Dropout(0.04))\r\n",
        "\r\n",
        "  model.add(Conv2D(64,(3,3),padding='same',activation = 'relu'))\r\n",
        "  model.add(Conv2D(64,(3,3),activation = 'relu'))\r\n",
        "  model.add(MaxPooling2D(pool_size = (2, 2)))\r\n",
        "  model.add(Dropout(0.04))\r\n",
        "\r\n",
        "\r\n",
        "  model.add(Flatten())\r\n",
        "  model.add(Dense(512,activation='relu'))\r\n",
        "  model.add(Dropout(0.5))\r\n",
        "  model.add(Dense(nClasses,activation='softmax'))\r\n",
        "  return model"
      ],
      "execution_count": null,
      "outputs": []
    },
    {
      "cell_type": "code",
      "metadata": {
        "id": "YC31O_7NstQg"
      },
      "source": [
        "# plot diagnostic learning curves\r\n",
        "def summarize_diagnostics(history):\r\n",
        "\t# plot loss\r\n",
        "\tpyplot.subplot(211)\r\n",
        "\tpyplot.title('Cross Entropy Loss')\r\n",
        "\tpyplot.plot(history.history['loss'], color='blue', label='train')\r\n",
        "\tpyplot.plot(history.history['val_loss'], color='orange', label='test')\r\n",
        "\t# plot accuracy\r\n",
        "\tpyplot.subplot(212)\r\n",
        "\tpyplot.title('Classification Accuracy')\r\n",
        "\tpyplot.plot(history.history['accuracy'], color='blue', label='train')\r\n",
        "\tpyplot.plot(history.history['val_accuracy'], color='orange', label='test')\r\n",
        "\t# save plot to file\r\n",
        "\tfilename = sys.argv[0].split('/')[-1]\r\n",
        "\tpyplot.savefig(filename + '_plot.png')\r\n",
        "\tpyplot.close()\r\n",
        " "
      ],
      "execution_count": null,
      "outputs": []
    },
    {
      "cell_type": "code",
      "metadata": {
        "id": "-TvCo2-bA1nP"
      },
      "source": [
        "\r\n",
        "model=createModel()"
      ],
      "execution_count": null,
      "outputs": []
    },
    {
      "cell_type": "code",
      "metadata": {
        "id": "0L9f24RNBGP1"
      },
      "source": [
        "opt = SGD(lr=0.001, momentum=0.9)\r\n",
        "model.compile(optimizer=opt, loss='categorical_crossentropy', metrics=['accuracy'])\r\n"
      ],
      "execution_count": null,
      "outputs": []
    },
    {
      "cell_type": "code",
      "metadata": {
        "colab": {
          "base_uri": "https://localhost:8080/"
        },
        "id": "VClkZcT0COiY",
        "outputId": "5752e980-3f38-47cf-f00d-1bc3be83e6a8"
      },
      "source": [
        "input_shape = (trainX.shape)  \r\n",
        "model.build(input_shape) \r\n",
        "model.summary()\r\n",
        "#model.build(None,32,32,3) # `input_shape` is the shape of the input data\r\n",
        "                         # e.g. input_shape = (None, 32, 32, 3)\r\n",
        "#model.summary()"
      ],
      "execution_count": null,
      "outputs": [
        {
          "output_type": "stream",
          "text": [
            "Model: \"sequential_3\"\n",
            "_________________________________________________________________\n",
            "Layer (type)                 Output Shape              Param #   \n",
            "=================================================================\n",
            "conv2d_14 (Conv2D)           (50000, 32, 32, 32)       896       \n",
            "_________________________________________________________________\n",
            "conv2d_15 (Conv2D)           (50000, 30, 30, 32)       9248      \n",
            "_________________________________________________________________\n",
            "max_pooling2d_7 (MaxPooling2 (50000, 15, 15, 32)       0         \n",
            "_________________________________________________________________\n",
            "dropout_10 (Dropout)         (50000, 15, 15, 32)       0         \n",
            "_________________________________________________________________\n",
            "conv2d_16 (Conv2D)           (50000, 15, 15, 64)       18496     \n",
            "_________________________________________________________________\n",
            "conv2d_17 (Conv2D)           (50000, 13, 13, 64)       36928     \n",
            "_________________________________________________________________\n",
            "max_pooling2d_8 (MaxPooling2 (50000, 6, 6, 64)         0         \n",
            "_________________________________________________________________\n",
            "dropout_11 (Dropout)         (50000, 6, 6, 64)         0         \n",
            "_________________________________________________________________\n",
            "flatten_3 (Flatten)          (50000, 2304)             0         \n",
            "_________________________________________________________________\n",
            "dense_6 (Dense)              (50000, 512)              1180160   \n",
            "_________________________________________________________________\n",
            "dropout_12 (Dropout)         (50000, 512)              0         \n",
            "_________________________________________________________________\n",
            "dense_7 (Dense)              (50000, 10)               5130      \n",
            "=================================================================\n",
            "Total params: 1,250,858\n",
            "Trainable params: 1,250,858\n",
            "Non-trainable params: 0\n",
            "_________________________________________________________________\n"
          ],
          "name": "stdout"
        }
      ]
    },
    {
      "cell_type": "code",
      "metadata": {
        "id": "OVvAEt8ULCvo"
      },
      "source": [
        "from keras.callbacks import Callback\r\n",
        "class CustomCallBack(Callback):\r\n",
        "  def on_epoch_end(self, epoch, logs={}):\r\n",
        "    if (epoch %5 ==0):\r\n",
        "      print(\"just finished epoch\",epoch)\r\n",
        "      print(\"loss\",logs.get('acc'))\r\n",
        "      print(\"val_acc\",logs.get('val_acc'))\r\n",
        "      return"
      ],
      "execution_count": null,
      "outputs": []
    },
    {
      "cell_type": "code",
      "metadata": {
        "colab": {
          "base_uri": "https://localhost:8080/"
        },
        "id": "zokDefTwMSDl",
        "outputId": "2c7a4de0-78d4-4943-e9d4-bf8875be8b79"
      },
      "source": [
        "batch_size=8\r\n",
        "epoch=10\r\n",
        "cc=CustomCallBack()\r\n",
        "history=model.fit(trainX,trainY, batch_size=batch_size, epochs=epoch, validation_data=(testX,testY))"
      ],
      "execution_count": null,
      "outputs": [
        {
          "output_type": "stream",
          "text": [
            "Epoch 1/10\n",
            "6250/6250 [==============================] - 255s 41ms/step - loss: 1.7989 - accuracy: 0.3406 - val_loss: 1.1990 - val_accuracy: 0.5682\n",
            "Epoch 2/10\n",
            "6250/6250 [==============================] - 251s 40ms/step - loss: 1.1974 - accuracy: 0.5712 - val_loss: 1.0126 - val_accuracy: 0.6395\n",
            "Epoch 3/10\n",
            "6250/6250 [==============================] - 253s 41ms/step - loss: 0.9883 - accuracy: 0.6516 - val_loss: 0.8864 - val_accuracy: 0.6861\n",
            "Epoch 4/10\n",
            "6250/6250 [==============================] - 252s 40ms/step - loss: 0.8375 - accuracy: 0.7067 - val_loss: 0.7785 - val_accuracy: 0.7314\n",
            "Epoch 5/10\n",
            "6250/6250 [==============================] - 251s 40ms/step - loss: 0.7368 - accuracy: 0.7408 - val_loss: 0.7439 - val_accuracy: 0.7424\n",
            "Epoch 6/10\n",
            "6250/6250 [==============================] - 253s 40ms/step - loss: 0.6696 - accuracy: 0.7646 - val_loss: 0.7191 - val_accuracy: 0.7513\n",
            "Epoch 7/10\n",
            "6250/6250 [==============================] - 252s 40ms/step - loss: 0.6033 - accuracy: 0.7873 - val_loss: 0.7137 - val_accuracy: 0.7545\n",
            "Epoch 8/10\n",
            "6250/6250 [==============================] - 253s 40ms/step - loss: 0.5523 - accuracy: 0.8058 - val_loss: 0.6925 - val_accuracy: 0.7664\n",
            "Epoch 9/10\n",
            "6250/6250 [==============================] - 252s 40ms/step - loss: 0.5015 - accuracy: 0.8246 - val_loss: 0.6724 - val_accuracy: 0.7749\n",
            "Epoch 10/10\n",
            "6250/6250 [==============================] - 253s 41ms/step - loss: 0.4621 - accuracy: 0.8353 - val_loss: 0.7033 - val_accuracy: 0.7716\n"
          ],
          "name": "stdout"
        }
      ]
    },
    {
      "cell_type": "markdown",
      "metadata": {
        "id": "MdbAeCHOOLCS"
      },
      "source": [
        "Question 4 : Visualisation du filtre de la premiere couche"
      ]
    },
    {
      "cell_type": "markdown",
      "metadata": {
        "id": "9swzGD-mF34b"
      },
      "source": [
        ""
      ]
    }
  ]
}